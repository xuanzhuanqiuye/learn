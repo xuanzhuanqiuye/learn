{
 "cells": [
  {
   "cell_type": "code",
   "execution_count": 1,
   "id": "6f992869",
   "metadata": {},
   "outputs": [],
   "source": [
    "import pandas as pd"
   ]
  },
  {
   "cell_type": "code",
   "execution_count": 3,
   "id": "ed51b5ce",
   "metadata": {},
   "outputs": [],
   "source": [
    "dfneiwang=pd.read_excel('neiwang.xlsx')"
   ]
  },
  {
   "cell_type": "code",
   "execution_count": 4,
   "id": "c0100444",
   "metadata": {},
   "outputs": [],
   "source": [
    "dfyinhang=pd.read_excel('yinhang.xlsx')"
   ]
  },
  {
   "cell_type": "code",
   "execution_count": 6,
   "id": "e85bd143",
   "metadata": {},
   "outputs": [],
   "source": [
    "df=pd.merge(dfyinhang,dfneiwang,on='银行设备编号',how='left')"
   ]
  },
  {
   "cell_type": "code",
   "execution_count": 7,
   "id": "b09294b8",
   "metadata": {},
   "outputs": [
    {
     "data": {
      "text/html": [
       "<div>\n",
       "<style scoped>\n",
       "    .dataframe tbody tr th:only-of-type {\n",
       "        vertical-align: middle;\n",
       "    }\n",
       "\n",
       "    .dataframe tbody tr th {\n",
       "        vertical-align: top;\n",
       "    }\n",
       "\n",
       "    .dataframe thead th {\n",
       "        text-align: right;\n",
       "    }\n",
       "</style>\n",
       "<table border=\"1\" class=\"dataframe\">\n",
       "  <thead>\n",
       "    <tr style=\"text-align: right;\">\n",
       "      <th></th>\n",
       "      <th>银行设备编号</th>\n",
       "      <th>通讯故障</th>\n",
       "      <th>服务工程师</th>\n",
       "      <th>网点</th>\n",
       "    </tr>\n",
       "  </thead>\n",
       "  <tbody>\n",
       "    <tr>\n",
       "      <th>0</th>\n",
       "      <td>220050300200</td>\n",
       "      <td>0.01</td>\n",
       "      <td>吕行</td>\n",
       "      <td>建行吉林分行长春锦程大街支行</td>\n",
       "    </tr>\n",
       "    <tr>\n",
       "      <th>1</th>\n",
       "      <td>220050300204</td>\n",
       "      <td>0.01</td>\n",
       "      <td>NaN</td>\n",
       "      <td>NaN</td>\n",
       "    </tr>\n",
       "    <tr>\n",
       "      <th>2</th>\n",
       "      <td>220050300207</td>\n",
       "      <td>0.00</td>\n",
       "      <td>NaN</td>\n",
       "      <td>NaN</td>\n",
       "    </tr>\n",
       "    <tr>\n",
       "      <th>3</th>\n",
       "      <td>220050300210</td>\n",
       "      <td>0.00</td>\n",
       "      <td>刘东亮</td>\n",
       "      <td>建行吉林分行长春蔚山路支行</td>\n",
       "    </tr>\n",
       "    <tr>\n",
       "      <th>4</th>\n",
       "      <td>220050300210</td>\n",
       "      <td>0.00</td>\n",
       "      <td>刘东亮</td>\n",
       "      <td>建行吉林分行长春蔚山路支行</td>\n",
       "    </tr>\n",
       "    <tr>\n",
       "      <th>...</th>\n",
       "      <td>...</td>\n",
       "      <td>...</td>\n",
       "      <td>...</td>\n",
       "      <td>...</td>\n",
       "    </tr>\n",
       "    <tr>\n",
       "      <th>159</th>\n",
       "      <td>220050300630</td>\n",
       "      <td>0.37</td>\n",
       "      <td>芦洪武</td>\n",
       "      <td>建行吉林分行长春卫明街自助</td>\n",
       "    </tr>\n",
       "    <tr>\n",
       "      <th>160</th>\n",
       "      <td>220050300631</td>\n",
       "      <td>2.18</td>\n",
       "      <td>芦洪武</td>\n",
       "      <td>建行吉林分行长春卫明街自助</td>\n",
       "    </tr>\n",
       "    <tr>\n",
       "      <th>161</th>\n",
       "      <td>220050300631</td>\n",
       "      <td>2.18</td>\n",
       "      <td>刘东亮</td>\n",
       "      <td>建行吉林分行长春卫明街自助</td>\n",
       "    </tr>\n",
       "    <tr>\n",
       "      <th>162</th>\n",
       "      <td>220050300631</td>\n",
       "      <td>2.18</td>\n",
       "      <td>芦洪武</td>\n",
       "      <td>建行吉林分行长春卫明街自助</td>\n",
       "    </tr>\n",
       "    <tr>\n",
       "      <th>163</th>\n",
       "      <td>220050300636</td>\n",
       "      <td>0.04</td>\n",
       "      <td>NaN</td>\n",
       "      <td>NaN</td>\n",
       "    </tr>\n",
       "  </tbody>\n",
       "</table>\n",
       "<p>164 rows × 4 columns</p>\n",
       "</div>"
      ],
      "text/plain": [
       "           银行设备编号  通讯故障 服务工程师              网点\n",
       "0    220050300200  0.01    吕行  建行吉林分行长春锦程大街支行\n",
       "1    220050300204  0.01   NaN             NaN\n",
       "2    220050300207  0.00   NaN             NaN\n",
       "3    220050300210  0.00   刘东亮   建行吉林分行长春蔚山路支行\n",
       "4    220050300210  0.00   刘东亮   建行吉林分行长春蔚山路支行\n",
       "..            ...   ...   ...             ...\n",
       "159  220050300630  0.37   芦洪武   建行吉林分行长春卫明街自助\n",
       "160  220050300631  2.18   芦洪武   建行吉林分行长春卫明街自助\n",
       "161  220050300631  2.18   刘东亮   建行吉林分行长春卫明街自助\n",
       "162  220050300631  2.18   芦洪武   建行吉林分行长春卫明街自助\n",
       "163  220050300636  0.04   NaN             NaN\n",
       "\n",
       "[164 rows x 4 columns]"
      ]
     },
     "execution_count": 7,
     "metadata": {},
     "output_type": "execute_result"
    }
   ],
   "source": [
    "df"
   ]
  },
  {
   "cell_type": "code",
   "execution_count": 8,
   "id": "d8fa79a0",
   "metadata": {},
   "outputs": [],
   "source": [
    "df.to_excel('merge.xlsx')"
   ]
  }
 ],
 "metadata": {
  "kernelspec": {
   "display_name": "Python 3 (ipykernel)",
   "language": "python",
   "name": "python3"
  },
  "language_info": {
   "codemirror_mode": {
    "name": "ipython",
    "version": 3
   },
   "file_extension": ".py",
   "mimetype": "text/x-python",
   "name": "python",
   "nbconvert_exporter": "python",
   "pygments_lexer": "ipython3",
   "version": "3.8.5"
  }
 },
 "nbformat": 4,
 "nbformat_minor": 5
}
