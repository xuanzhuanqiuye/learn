{
 "cells": [
  {
   "cell_type": "code",
   "execution_count": 1,
   "id": "210dc3ba",
   "metadata": {},
   "outputs": [],
   "source": [
    "import pandas as pd"
   ]
  },
  {
   "cell_type": "code",
   "execution_count": 4,
   "id": "4a96ef89",
   "metadata": {},
   "outputs": [],
   "source": [
    "df=pd.read_excel('banshichu.xlsx')"
   ]
  },
  {
   "cell_type": "code",
   "execution_count": 8,
   "id": "b3be207d",
   "metadata": {},
   "outputs": [],
   "source": [
    "rows=df.shape[0]"
   ]
  },
  {
   "cell_type": "code",
   "execution_count": 12,
   "id": "8af668df",
   "metadata": {
    "scrolled": true
   },
   "outputs": [],
   "source": [
    "import openpyxl"
   ]
  },
  {
   "cell_type": "code",
   "execution_count": 20,
   "id": "4cc7474e",
   "metadata": {},
   "outputs": [],
   "source": [
    "changchun=openpyxl.Workbook()\n",
    "changchun.save('changchun.xlsx')\n",
    "jiutai=openpyxl.Workbook()\n",
    "jiutai.save('jiutai.xlsx')\n",
    "nongan=openpyxl.Workbook()\n",
    "nongan.save('nongan.xlsx')\n",
    "shuangyang=openpyxl.Workbook()\n",
    "shuangyang.save('shuangyang.xlsx')\n",
    "dehui=openpyxl.Workbook()\n",
    "dehui.save('dehui.xlsx')"
   ]
  },
  {
   "cell_type": "code",
   "execution_count": 22,
   "id": "10c16f51",
   "metadata": {},
   "outputs": [],
   "source": [
    "changchun=pd.read_excel('changchun.xlsx')\n",
    "jiutai=pd.read_excel('jiutai.xlsx')\n",
    "nongan=pd.read_excel('nongan.xlsx')\n",
    "shuangyang=pd.read_excel('shuangyang.xlsx')\n",
    "dehui=pd.read_excel('dehui.xlsx')"
   ]
  },
  {
   "cell_type": "code",
   "execution_count": 41,
   "id": "728a206f",
   "metadata": {},
   "outputs": [],
   "source": [
    "for i in range(rows):\n",
    "    if df.loc[i,'办事处'] == '吉林长春办事处':\n",
    "        changchun=changchun.append(df.loc[i])\n",
    "    elif df.loc[i,'办事处'] == '吉林长春九台办事处':\n",
    "        jiutai=jiutai.append(df.loc[i])\n",
    "    elif df.loc[i,'办事处'] == '吉林长春农安办事处':\n",
    "        nongan=nongan.append(df.loc[i])\n",
    "    elif df.loc[i,'办事处'] == '吉林长春德惠办事处':\n",
    "        dehui=dehui.append(df.loc[i])\n",
    "    else:\n",
    "        shuangyang=shuangyang.append(df.loc[i])"
   ]
  },
  {
   "cell_type": "code",
   "execution_count": 42,
   "id": "9b0f7ef4",
   "metadata": {},
   "outputs": [],
   "source": [
    "changchun.to_excel('changchun.xlsx')\n",
    "jiutai.to_excel('jiutai.xlsx')\n",
    "nongan.to_excel('nongan.xlsx')\n",
    "dehui.to_excel('dehui.xlsx')\n",
    "shuangyang.to_excel('shuangyang.xlsx')"
   ]
  }
 ],
 "metadata": {
  "kernelspec": {
   "display_name": "Python 3 (ipykernel)",
   "language": "python",
   "name": "python3"
  },
  "language_info": {
   "codemirror_mode": {
    "name": "ipython",
    "version": 3
   },
   "file_extension": ".py",
   "mimetype": "text/x-python",
   "name": "python",
   "nbconvert_exporter": "python",
   "pygments_lexer": "ipython3",
   "version": "3.8.5"
  }
 },
 "nbformat": 4,
 "nbformat_minor": 5
}
