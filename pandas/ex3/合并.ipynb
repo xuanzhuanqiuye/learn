{
 "cells": [
  {
   "cell_type": "code",
   "execution_count": 1,
   "id": "eb4e86c7",
   "metadata": {},
   "outputs": [],
   "source": [
    "import pandas as pd"
   ]
  },
  {
   "cell_type": "code",
   "execution_count": 2,
   "id": "56b43829",
   "metadata": {},
   "outputs": [],
   "source": [
    "list=['changchun.xlsx','jiutai.xlsx','nongan.xlsx','dehui.xlsx','shuangyang.xlsx']"
   ]
  },
  {
   "cell_type": "code",
   "execution_count": 3,
   "id": "99205f9b",
   "metadata": {},
   "outputs": [],
   "source": [
    "df_list=[]\n",
    "for name in list:\n",
    "    df_split=pd.read_excel(name)\n",
    "    df_split['办事处名字']=name.split('.')[0]\n",
    "    df_list.append(df_split)"
   ]
  },
  {
   "cell_type": "code",
   "execution_count": 4,
   "id": "b3e4738f",
   "metadata": {},
   "outputs": [],
   "source": [
    "df_merged=pd.concat(df_list)"
   ]
  },
  {
   "cell_type": "code",
   "execution_count": 6,
   "id": "df69faf1",
   "metadata": {},
   "outputs": [
    {
     "data": {
      "text/plain": [
       "(3855, 18)"
      ]
     },
     "execution_count": 6,
     "metadata": {},
     "output_type": "execute_result"
    }
   ],
   "source": [
    "df_merged.shape"
   ]
  },
  {
   "cell_type": "code",
   "execution_count": 14,
   "id": "38cba6eb",
   "metadata": {},
   "outputs": [],
   "source": [
    "df=df_merged.drop('Unnamed: 0',axis=1)\n",
    "# df_merged.to_excel(\"合并.xlsx\",index=False)"
   ]
  },
  {
   "cell_type": "code",
   "execution_count": 15,
   "id": "0b732425",
   "metadata": {},
   "outputs": [],
   "source": [
    "df.to_excel(\"合并.xlsx\",index=False)"
   ]
  }
 ],
 "metadata": {
  "kernelspec": {
   "display_name": "Python 3 (ipykernel)",
   "language": "python",
   "name": "python3"
  },
  "language_info": {
   "codemirror_mode": {
    "name": "ipython",
    "version": 3
   },
   "file_extension": ".py",
   "mimetype": "text/x-python",
   "name": "python",
   "nbconvert_exporter": "python",
   "pygments_lexer": "ipython3",
   "version": "3.8.5"
  }
 },
 "nbformat": 4,
 "nbformat_minor": 5
}
